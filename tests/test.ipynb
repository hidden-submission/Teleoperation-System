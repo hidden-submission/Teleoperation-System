{
 "cells": [
  {
   "cell_type": "code",
   "execution_count": 2,
   "id": "26b65dc8",
   "metadata": {},
   "outputs": [],
   "source": [
    "# from pathlib import Path\n",
    "# import cv2\n",
    "# # Параметры\n",
    "# img_dir     = Path(\"dataset/episode_1/img\")\n",
    "# output_path = Path(\"dataset/episode_1/episode_1.mp4\")\n",
    "# fps         = 20.0\n",
    "# codec       = \"avc1\"  # H.264\n",
    "\n",
    "# # Собираем и сортируем список файлов\n",
    "# img_paths = sorted(img_dir.glob(\"*.*\"))\n",
    "# if not img_paths:\n",
    "#     raise RuntimeError(f\"No images found in {img_dir}\")\n",
    "\n",
    "# # Читаем первый кадр, чтобы узнать размер\n",
    "# first_frame = cv2.imread(str(img_paths[0]))\n",
    "# if first_frame is None:\n",
    "#     raise RuntimeError(f\"Cannot read image {img_paths[0]}\")\n",
    "# height, width = first_frame.shape[:2]\n",
    "\n",
    "# # Настраиваем VideoWriter\n",
    "# fourcc = cv2.VideoWriter_fourcc(*codec)\n",
    "# writer = cv2.VideoWriter(str(output_path), fourcc, fps, (width, height))\n",
    "# if not writer.isOpened():\n",
    "#     raise RuntimeError(f\"Cannot open video writer for {output_path}\")\n",
    "\n",
    "# # Проходим по всем изображениям и пишем в видео\n",
    "# for img_path in img_paths:\n",
    "#     frame = cv2.imread(str(img_path))\n",
    "#     if frame is None:\n",
    "#         print(f\"[WARN] skip unreadable image {img_path}\")\n",
    "#         continue\n",
    "#     writer.write(frame)\n",
    "\n",
    "# writer.release()\n",
    "# print(f\"Saved video: {output_path}\")\n"
   ]
  },
  {
   "cell_type": "code",
   "execution_count": null,
   "id": "78ea8044",
   "metadata": {},
   "outputs": [
    {
     "data": {
      "text/plain": [
       "int"
      ]
     },
     "execution_count": 10,
     "metadata": {},
     "output_type": "execute_result"
    }
   ],
   "source": [
    "# ECHO_READ_DATA_SIM = 0x5\n",
    "# type(ECHO_READ_DATA_SIM)"
   ]
  },
  {
   "cell_type": "code",
   "execution_count": 8,
   "id": "a98f32ef",
   "metadata": {},
   "outputs": [
    {
     "data": {
      "text/plain": [
       "b'\\xff'"
      ]
     },
     "execution_count": 8,
     "metadata": {},
     "output_type": "execute_result"
    }
   ],
   "source": [
    "leftArmHandleForce=255\n",
    "leftArmHandleForce.to_bytes(1, 'little')\n"
   ]
  },
  {
   "cell_type": "code",
   "execution_count": 1,
   "id": "75e667cb",
   "metadata": {},
   "outputs": [],
   "source": [
    "import glob\n",
    "import logging\n",
    "from pathlib import Path\n",
    "from PIL import Image\n",
    "import av"
   ]
  },
  {
   "cell_type": "code",
   "execution_count": 6,
   "id": "0f1ea592",
   "metadata": {},
   "outputs": [],
   "source": [
    "def encode_video_frames(\n",
    "    imgs_dir: Path | str,\n",
    "    video_path: Path | str,\n",
    "    fps: int,\n",
    "    vcodec: str = \"libsvtav1\",\n",
    "    pix_fmt: str = \"yuv420p\",\n",
    "    g: int | None = 2,\n",
    "    crf: int | None = 30,\n",
    "    fast_decode: int = 0,\n",
    "    log_level: int | None = av.logging.ERROR,\n",
    "    overwrite: bool = False,\n",
    ") -> None:\n",
    "    \"\"\"\n",
    "    Encode a sequence of image files into a single video.\n",
    "\n",
    "    :param imgs_dir:    folder with frames, expected name like \"frame_000001.png\", …\n",
    "    :param video_path:  where to save video (mp4, mkv, etc.)\n",
    "    :param fps:         frames per second for output video\n",
    "    :param vcodec:      video codec: \"h264\", \"hevc\" (H.265) or \"libsvtav1\" (AV1)\n",
    "    :param pix_fmt:     color format: usually \"yuv420p\"\n",
    "    :param g: GOP       size (number of frames between key frames)\n",
    "    :param crf:         compression quality (lower — better quality, higher — stronger compression)\n",
    "    :param fast_decode: if >0, adds parameters for accelerated decoding\n",
    "    :param log_level:   logging level for FFmpeg (None to disable)\n",
    "    :param overwrite:   if True, will create the destination folder even if it already exists\n",
    "    \"\"\"\n",
    "    # Checking arguments\n",
    "    if vcodec not in [\"h264\", \"hevc\", \"libsvtav1\"]:\n",
    "        raise ValueError(f\"Unsupported video codec: {vcodec}. Supported codecs are: h264, hevc, libsvtav1.\")\n",
    "\n",
    "    video_path = Path(video_path)\n",
    "    imgs_dir   = Path(imgs_dir)\n",
    "\n",
    "    # Create destination folder if needed\n",
    "    video_path.parent.mkdir(parents=True, exist_ok=overwrite)\n",
    "\n",
    "    # Encoders/pixel formats incompatibility check\n",
    "    if (vcodec in (\"libsvtav1\", \"hevc\")) and pix_fmt == \"yuv444p\":\n",
    "        logging.warning(\n",
    "            f\"Incompatible pix_fmt=yuv444p for codec {vcodec}, switching to yuv420p\"\n",
    "        )\n",
    "        pix_fmt = \"yuv420p\"\n",
    "\n",
    "    # Сollect a list of input frames using the template frame_[0-9]{6}.png\n",
    "    template = \"frame_\" + (\"[0-9]\" * 6) + \".png\"\n",
    "    input_list = sorted(\n",
    "        glob.glob(str(imgs_dir / template)), key=lambda x: int(x.split(\"_\")[-1].split(\".\")[0])\n",
    "    )\n",
    "\n",
    "    # Check if there are any input frames\n",
    "    dummy_image = Image.open(input_list[0])\n",
    "    width, height = dummy_image.size\n",
    "\n",
    "    # Collect video options\n",
    "    video_options = {}\n",
    "    if g       is not None: video_options[\"g\"]   = str(g)\n",
    "    if crf     is not None: video_options[\"crf\"] = str(crf)\n",
    "    if fast_decode:\n",
    "        key   = \"svtav1-params\" if vcodec == \"libsvtav1\" else \"tune\"\n",
    "        value = f\"fast-decode={fast_decode}\" if vcodec == \"libsvtav1\" else \"fastdecode\"\n",
    "        video_options[key] = value\n",
    "\n",
    "    # Set logging level\n",
    "    if log_level is not None:\n",
    "        logging.getLogger(\"libav\").setLevel(log_level)\n",
    "\n",
    "    # Create and open output file (overwrite by default)\n",
    "    with av.open(str(video_path), mode=\"w\") as output:\n",
    "        # Add a stream to the output file\n",
    "        stream = output.add_stream(vcodec, rate=fps, options=video_options)\n",
    "        stream.width     = width\n",
    "        stream.height    = height\n",
    "        stream.pix_fmt   = pix_fmt\n",
    "\n",
    "        # Loop through input frames and encode them\n",
    "        for img_path in input_list:\n",
    "            input_image   = Image.open(img_path).convert(\"RGB\")\n",
    "            input_frame = av.VideoFrame.from_image(input_image)\n",
    "            # Set the frame's time base\n",
    "            for packet in stream.encode(input_frame):\n",
    "                if packet:\n",
    "                    output.mux(packet)\n",
    "\n",
    "        # Flush the encoder\n",
    "        for packet in stream.encode():\n",
    "            output.mux(packet)\n",
    "\n",
    "    # Reset logging\n",
    "    if log_level is not None:\n",
    "        av.logging.restore_default_callback()\n",
    "\n",
    "    # Checking for file existence\n",
    "    if not video_path.exists():\n",
    "        raise OSError(f\"Encoding failed, file not found: {video_path}\")\n"
   ]
  },
  {
   "cell_type": "code",
   "execution_count": 12,
   "id": "38e0f255",
   "metadata": {},
   "outputs": [
    {
     "name": "stderr",
     "output_type": "stream",
     "text": [
      "[libopenh264 @ 0x307efc40] [OpenH264] this = 0x0x30a34cd0, Warning:layerId(0) doesn't support profile(578), change to UNSPECIFIC profile\n",
      "[libopenh264 @ 0x307efc40] [OpenH264] this = 0x0x30a34cd0, Warning:bEnableFrameSkip = 0,bitrate can't be controlled for RC_QUALITY_MODE,RC_BITRATE_MODE and RC_TIMESTAMP_MODE without enabling skip frame.\n",
      "[libopenh264 @ 0x307efc40] [OpenH264] this = 0x0x30a34cd0, Warning:Change QP Range from(0,51) to (12,42)\n"
     ]
    }
   ],
   "source": [
    "encode_video_frames(\n",
    "    imgs_dir=Path(\"dataset/episode_1/img\"),\n",
    "    video_path=Path(\"dataset/episode_1/episode_1.mp4\"),\n",
    "    fps=30.0,\n",
    "    # vcodec=\"h264\",\n",
    "    vcodec=\"h264\",\n",
    "    pix_fmt=\"yuv420p\",\n",
    "    g=2,\n",
    "    crf=20,\n",
    "    fast_decode=0,\n",
    "    log_level=logging.INFO,\n",
    "    overwrite=True\n",
    ")"
   ]
  }
 ],
 "metadata": {
  "kernelspec": {
   "display_name": "echo",
   "language": "python",
   "name": "python3"
  },
  "language_info": {
   "codemirror_mode": {
    "name": "ipython",
    "version": 3
   },
   "file_extension": ".py",
   "mimetype": "text/x-python",
   "name": "python",
   "nbconvert_exporter": "python",
   "pygments_lexer": "ipython3",
   "version": "3.10.16"
  }
 },
 "nbformat": 4,
 "nbformat_minor": 5
}
